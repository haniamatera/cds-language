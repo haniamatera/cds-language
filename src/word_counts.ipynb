{
 "cells": [
  {
   "cell_type": "markdown",
   "metadata": {},
   "source": [
    "## Basic Scripting in Python"
   ]
  },
  {
   "cell_type": "markdown",
   "metadata": {},
   "source": [
    "__Aske Svane Qvist - Assignment 1, Language Analytics__"
   ]
  },
  {
   "cell_type": "markdown",
   "metadata": {},
   "source": [
    "I import necessary packages"
   ]
  },
  {
   "cell_type": "code",
   "execution_count": 6,
   "metadata": {},
   "outputs": [],
   "source": [
    "import os\n",
    "from pathlib import Path\n",
    "import pandas as pd"
   ]
  },
  {
   "cell_type": "markdown",
   "metadata": {},
   "source": [
    "I create the right filepath compatible with both mac and windows. "
   ]
  },
  {
   "cell_type": "code",
   "execution_count": 7,
   "metadata": {},
   "outputs": [],
   "source": [
    "\n",
    "data_path = os.path.join(\"..\",\"data\",\"100_english_novels\", \"corpus\")\n",
    "\n",
    "# Count the length of the path to isolate filename in the loop\n",
    "path_len = len(data_path)"
   ]
  },
  {
   "cell_type": "markdown",
   "metadata": {},
   "source": [
    "Prepare dataframe for the results"
   ]
  },
  {
   "cell_type": "code",
   "execution_count": 8,
   "metadata": {},
   "outputs": [],
   "source": [
    "# define pandas with appropriate column names\n",
    "Columns = ['filename','total_words','unique_words']           \n",
    "DATA = pd.DataFrame(columns = Columns)"
   ]
  },
  {
   "cell_type": "markdown",
   "metadata": {},
   "source": [
    "I create the loop extracting the relevant information"
   ]
  },
  {
   "cell_type": "code",
   "execution_count": 9,
   "metadata": {},
   "outputs": [],
   "source": [
    "for filename in Path(data_path).glob(\"*.txt\"):\n",
    "    \n",
    "    # Read the given text file\n",
    "    with open (filename, \"r\", encoding = \"utf-8\") as file:\n",
    "        loaded_text = file.read()\n",
    "        \n",
    "        # Isolate the filename (without the path)\n",
    "        only_filename = str(filename)\n",
    "        only_filename = only_filename[path_len + 1:]\n",
    "        \n",
    "        # Calculate total word count\n",
    "        split_text = loaded_text.split()\n",
    "        total_words = (len(split_text))\n",
    "        \n",
    "        # Calculate total number of unique word\n",
    "        split_text_Set = set(split_text)\n",
    "        unique_words = len(set(split_text_Set))\n",
    "        \n",
    "        # Append to the pre-created dataframe\n",
    "        DATA = DATA.append({\n",
    "            'filename': only_filename,\n",
    "            'total_words': total_words,\n",
    "            'unique_words': unique_words,\n",
    "            }, ignore_index=True) \n",
    "\n",
    "# Save as a csv file\n",
    "DATA.to_csv(\"WordCountsResults.csv\")\n"
   ]
  }
 ],
 "metadata": {
  "kernelspec": {
   "display_name": "Python 3",
   "language": "python",
   "name": "python3"
  },
  "language_info": {
   "codemirror_mode": {
    "name": "ipython",
    "version": 3
   },
   "file_extension": ".py",
   "mimetype": "text/x-python",
   "name": "python",
   "nbconvert_exporter": "python",
   "pygments_lexer": "ipython3",
   "version": "3.8.3"
  }
 },
 "nbformat": 4,
 "nbformat_minor": 4
}
